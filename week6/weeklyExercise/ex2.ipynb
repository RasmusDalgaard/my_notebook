{
 "cells": [
  {
   "cell_type": "code",
   "execution_count": 1,
   "metadata": {},
   "outputs": [
    {
     "name": "stdout",
     "output_type": "stream",
     "text": [
      "11-0.txt\n",
      "https://www.gutenberg.org/files/11/11-0.txt\n",
      "1.5900679315999062\n",
      "1.8561591779655864\n"
     ]
    }
   ],
   "source": [
    "from ex1 import TextComparer as TextComparer\n",
    "\n",
    "book_list = ['https://www.gutenberg.org/files/11/11-0.txt', \n",
    "             'https://www.gutenberg.org/files/1342/1342-0.txt',\n",
    "             'https://www.gutenberg.org/files/345/345-0.txt',\n",
    "             'https://www.gutenberg.org/files/4217/4217-0.txt',\n",
    "             'https://www.gutenberg.org/files/113/113-0.txt', \n",
    "             'https://www.gutenberg.org/ebooks/1597.txt.utf-8', \n",
    "             'https://www.gutenberg.org/ebooks/4363.txt.utf-8', \n",
    "             'https://www.gutenberg.org/ebooks/19942.txt.utf-8', \n",
    "             'https://www.gutenberg.org/files/63256/63256-0.txt', \n",
    "             'https://www.gutenberg.org/ebooks/67599.txt.utf-8']\n",
    "\n",
    "textComp = TextComparer(book_list)\n",
    "\n",
    "iterator = iter(textComp)\n",
    "\n",
    "#textComp.multi_download()\n",
    "\n",
    "print(next(iterator))\n",
    "\n",
    "tmp_url = textComp.urllist_generator()\n",
    "print(next(tmp_url))\n",
    "\n",
    "print(textComp.avg_vowels(textComp.file_list[0]))\n",
    "\n",
    "print(textComp.hardest_read())\n",
    "\n"
   ]
  },
  {
   "cell_type": "code",
   "execution_count": null,
   "metadata": {},
   "outputs": [],
   "source": []
  }
 ],
 "metadata": {
  "kernelspec": {
   "display_name": "Python 3",
   "language": "python",
   "name": "python3"
  },
  "language_info": {
   "codemirror_mode": {
    "name": "ipython",
    "version": 3
   },
   "file_extension": ".py",
   "mimetype": "text/x-python",
   "name": "python",
   "nbconvert_exporter": "python",
   "pygments_lexer": "ipython3",
   "version": "3.7.6"
  }
 },
 "nbformat": 4,
 "nbformat_minor": 4
}
