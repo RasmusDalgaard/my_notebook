{
 "cells": [
  {
   "cell_type": "code",
   "execution_count": 1,
   "metadata": {},
   "outputs": [],
   "source": [
    "from student import Student\n",
    "from course import Course\n",
    "from dataSheet import DataSheet\n",
    "\n",
    "course_list_1 = []\n",
    "course_list_2 = []\n",
    "course_list_3 = []\n",
    "\n",
    "course_list_1.append(Course(\"Python\", \"105\", \"Thomas\", 150, 10))\n",
    "course_list_1.append(Course(\"Game Development\", \"105\", \"Jesper\", 150, 10))\n",
    "course_list_1.append(Course(\"OOA/OOD\", \"105\", \"Kim\", 150, 10))\n",
    "\n",
    "\n",
    "course_list_2.append(Course(\"Home Cooking\", \"N302\", \"Hans\", 150, 12))\n",
    "course_list_2.append(Course(\"Oldtidskundskab\", \"H108\", \"Palle\", 50))\n",
    "course_list_2.append(Course(\"Idræt\", \"Hallen\", \"Kim\", 50))\n",
    "\n",
    "\n",
    "course_list_3.append(Course(\"Mathematics\", \"101\", \"Gitte\", 150, 10))\n",
    "course_list_3.append(Course(\"Physics\", \"103\", \"Jesper\", 150, 2))\n",
    "course_list_3.append(Course(\"Computer Science\", \"55B\", \"Lars\", 150, 12))\n",
    "course_list_3.append(Course(\"Communication\", \"56B\", \"Bertild\", 150, 10))\n",
    "\n",
    "d1 = DataSheet(course_list_1)\n",
    "d2 = DataSheet(course_list_2)\n",
    "d3 = DataSheet(course_list_3)\n",
    "\n",
    "student_list = []\n",
    "student_list.append(Student(\"Janus\", \"Male\", d1, \"www.image.com\"))\n",
    "student_list.append(Student(\"Rasmus\", \"Male\", d2, \"www.image.com\"))\n",
    "student_list.append(Student(\"Frederik\", \"Male\", d3, \"www.image.com\"))\n"
   ]
  },
  {
   "cell_type": "code",
   "execution_count": 8,
   "metadata": {
    "scrolled": true
   },
   "outputs": [
    {
     "data": {
      "image/png": "[encoded data removed]",
      "text/plain": [
       "<Figure size 432x288 with 1 Axes>"
      ]
     },
     "metadata": {
      "needs_background": "light"
     },
     "output_type": "display_data"
    }
   ],
   "source": [
    "import matplotlib.pyplot as plt\n",
    "import math\n",
    "from collections import Counter\n",
    "\n",
    "progression = [math.floor(student.show_progression()/10)*10 for student in student_list]\n",
    "percentages = [10, 20, 30, 40, 50, 60, 70, 80, 90, 100]\n",
    "occurrences = list(Counter(progression).values())\n",
    "\n",
    "percentage_dict = {percentage: progression.count(percentage) for percentage in percentages}\n",
    "y_values = percentage_dict.values()\n",
    "\n",
    "plt.bar(percentages, y_values, width=7.5, linewidth=0, align='center')\n",
    "plt.title('Student Progression', fontsize=12)\n",
    "plt.xlabel('Course Completion in %')\n",
    "plt.ylabel('Number of students')\n",
    "plt.ticklabel_format(useOffset=False)\n",
    "plt.xticks(percentages)\n",
    "plt.ticklabel_format(useOffset=False)\n",
    "plt.tick_params(axis='both', which='major', labelsize=10)\n",
    "plt.axis([0, 110, 0, 5]) # starting instead from 0 on y-axis\n",
    "plt.show()"
   ]
  },
  {
   "cell_type": "code",
   "execution_count": 9,
   "metadata": {},
   "outputs": [
    {
     "data": {
      "image/png": "[encoded data removed]",
      "text/plain": [
       "<Figure size 432x288 with 1 Axes>"
      ]
     },
     "metadata": {},
     "output_type": "display_data"
    }
   ],
   "source": [
    "#EX3\n",
    "\n",
    "def pie_chart_progression(student_list):\n",
    "    plt.pie(y_values, labels = percentages)\n",
    "    plt.show()\n",
    "    \n",
    "\n",
    "\n",
    "pie_chart_progression(student_list)"
   ]
  },
  {
   "cell_type": "code",
   "execution_count": null,
   "metadata": {},
   "outputs": [],
   "source": []
  }
 ],
 "metadata": {
  "kernelspec": {
   "display_name": "Python 3",
   "language": "python",
   "name": "python3"
  },
  "language_info": {
   "codemirror_mode": {
    "name": "ipython",
    "version": 3
   },
   "file_extension": ".py",
   "mimetype": "text/x-python",
   "name": "python",
   "nbconvert_exporter": "python",
   "pygments_lexer": "ipython3",
   "version": "3.7.6"
  }
 },
 "nbformat": 4,
 "nbformat_minor": 4
}
